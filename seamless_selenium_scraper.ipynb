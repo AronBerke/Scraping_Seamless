{
 "cells": [
  {
   "cell_type": "code",
   "execution_count": 156,
   "metadata": {},
   "outputs": [],
   "source": [
    "from selenium import webdriver\n",
    "import time\n",
    "import re\n",
    "import pandas as pd\n",
    "from selenium.webdriver.support.ui import WebDriverWait"
   ]
  },
  {
   "cell_type": "code",
   "execution_count": 63,
   "metadata": {},
   "outputs": [],
   "source": [
    "#open driver page for initial search - all popular restaurants in vicinity of my east village address\n",
    "driver = webdriver.Chrome()\n",
    "driver.get(\"https://www.seamless.com/search?orderMethod=delivery&locationMode=DELIVERY&facetSet=umamiV2&pageSize=20&hideHateos=true&searchMetrics=true&latitude=40.73114395&longitude=-73.98957825&preciseLocation=true&sortSetId=umamiV2&sponsoredSize=3&countOmittingTimes=true\")"
   ]
  },
  {
   "cell_type": "code",
   "execution_count": 64,
   "metadata": {},
   "outputs": [
    {
     "data": {
      "text/plain": [
       "76"
      ]
     },
     "execution_count": 64,
     "metadata": {},
     "output_type": "execute_result"
    }
   ],
   "source": [
    "#get total number of search results pages\n",
    "total_pages = driver.find_element_by_xpath('//p[@class=\"u-text-secondary u-center\"]').text\n",
    "total_pages = int(total_pages.split()[-1])\n",
    "total_pages"
   ]
  },
  {
   "cell_type": "code",
   "execution_count": 65,
   "metadata": {
    "scrolled": false
   },
   "outputs": [
    {
     "name": "stdout",
     "output_type": "stream",
     "text": [
      "Scraping Page Number1\n",
      "Scraping Page Number2\n",
      "Scraping Page Number3\n",
      "Scraping Page Number4\n",
      "Scraping Page Number5\n",
      "Scraping Page Number6\n",
      "Scraping Page Number7\n",
      "Scraping Page Number8\n",
      "Scraping Page Number9\n",
      "Scraping Page Number10\n",
      "Scraping Page Number11\n",
      "Scraping Page Number12\n",
      "Scraping Page Number13\n",
      "Scraping Page Number14\n",
      "Scraping Page Number15\n",
      "Scraping Page Number16\n",
      "Scraping Page Number17\n",
      "Scraping Page Number18\n",
      "Scraping Page Number19\n",
      "Scraping Page Number20\n",
      "Scraping Page Number21\n",
      "Scraping Page Number22\n",
      "Scraping Page Number23\n",
      "Scraping Page Number24\n",
      "Scraping Page Number25\n",
      "Scraping Page Number26\n",
      "Scraping Page Number27\n",
      "Scraping Page Number28\n",
      "Scraping Page Number29\n",
      "Scraping Page Number30\n",
      "Scraping Page Number31\n",
      "Scraping Page Number32\n",
      "Scraping Page Number33\n",
      "Scraping Page Number34\n",
      "Scraping Page Number35\n",
      "Scraping Page Number36\n",
      "Scraping Page Number37\n",
      "Scraping Page Number38\n",
      "Scraping Page Number39\n",
      "Scraping Page Number40\n",
      "Scraping Page Number41\n",
      "Scraping Page Number42\n",
      "Scraping Page Number43\n",
      "Scraping Page Number44\n",
      "Scraping Page Number45\n",
      "Scraping Page Number46\n",
      "Scraping Page Number47\n",
      "Scraping Page Number48\n",
      "Scraping Page Number49\n",
      "Scraping Page Number50\n",
      "Scraping Page Number51\n",
      "Scraping Page Number52\n",
      "Scraping Page Number53\n",
      "Scraping Page Number54\n",
      "Scraping Page Number55\n",
      "Scraping Page Number56\n",
      "Scraping Page Number57\n",
      "Scraping Page Number58\n",
      "Scraping Page Number59\n",
      "Scraping Page Number60\n",
      "Scraping Page Number61\n",
      "Scraping Page Number62\n",
      "Scraping Page Number63\n",
      "Scraping Page Number64\n",
      "Scraping Page Number65\n",
      "Scraping Page Number66\n",
      "Scraping Page Number67\n",
      "Scraping Page Number68\n",
      "Scraping Page Number69\n",
      "Scraping Page Number70\n",
      "Scraping Page Number71\n",
      "Scraping Page Number72\n",
      "Scraping Page Number73\n",
      "Scraping Page Number74\n",
      "Scraping Page Number75\n",
      "Scraping Page Number76\n"
     ]
    },
    {
     "ename": "ElementClickInterceptedException",
     "evalue": "Message: element click intercepted: Element <a aria-label=\"Next\" href=\"javascript:void(0);\" class=\"page-link\" tabindex=\"-1\">...</a> is not clickable at point (872, 624). Other element would receive the click: <li class=\"page-item disabled\">...</li>\n  (Session info: chrome=77.0.3865.120)\n",
     "output_type": "error",
     "traceback": [
      "\u001b[0;31m---------------------------------------------------------------------------\u001b[0m",
      "\u001b[0;31mElementClickInterceptedException\u001b[0m          Traceback (most recent call last)",
      "\u001b[0;32m<ipython-input-65-918ca4cd9ae5>\u001b[0m in \u001b[0;36m<module>\u001b[0;34m\u001b[0m\n\u001b[1;32m     11\u001b[0m \u001b[0;34m\u001b[0m\u001b[0m\n\u001b[1;32m     12\u001b[0m     \u001b[0mbutton\u001b[0m \u001b[0;34m=\u001b[0m \u001b[0mdriver\u001b[0m\u001b[0;34m.\u001b[0m\u001b[0mfind_element_by_xpath\u001b[0m\u001b[0;34m(\u001b[0m\u001b[0;34m'//a[@aria-label=\"Next\"]'\u001b[0m\u001b[0;34m)\u001b[0m\u001b[0;34m\u001b[0m\u001b[0;34m\u001b[0m\u001b[0m\n\u001b[0;32m---> 13\u001b[0;31m     \u001b[0mbutton\u001b[0m\u001b[0;34m.\u001b[0m\u001b[0mclick\u001b[0m\u001b[0;34m(\u001b[0m\u001b[0;34m)\u001b[0m\u001b[0;34m\u001b[0m\u001b[0;34m\u001b[0m\u001b[0m\n\u001b[0m\u001b[1;32m     14\u001b[0m     \u001b[0mtime\u001b[0m\u001b[0;34m.\u001b[0m\u001b[0msleep\u001b[0m\u001b[0;34m(\u001b[0m\u001b[0;36m2\u001b[0m\u001b[0;34m)\u001b[0m\u001b[0;34m\u001b[0m\u001b[0;34m\u001b[0m\u001b[0m\n",
      "\u001b[0;32m/anaconda3/lib/python3.7/site-packages/selenium/webdriver/remote/webelement.py\u001b[0m in \u001b[0;36mclick\u001b[0;34m(self)\u001b[0m\n\u001b[1;32m     78\u001b[0m     \u001b[0;32mdef\u001b[0m \u001b[0mclick\u001b[0m\u001b[0;34m(\u001b[0m\u001b[0mself\u001b[0m\u001b[0;34m)\u001b[0m\u001b[0;34m:\u001b[0m\u001b[0;34m\u001b[0m\u001b[0;34m\u001b[0m\u001b[0m\n\u001b[1;32m     79\u001b[0m         \u001b[0;34m\"\"\"Clicks the element.\"\"\"\u001b[0m\u001b[0;34m\u001b[0m\u001b[0;34m\u001b[0m\u001b[0m\n\u001b[0;32m---> 80\u001b[0;31m         \u001b[0mself\u001b[0m\u001b[0;34m.\u001b[0m\u001b[0m_execute\u001b[0m\u001b[0;34m(\u001b[0m\u001b[0mCommand\u001b[0m\u001b[0;34m.\u001b[0m\u001b[0mCLICK_ELEMENT\u001b[0m\u001b[0;34m)\u001b[0m\u001b[0;34m\u001b[0m\u001b[0;34m\u001b[0m\u001b[0m\n\u001b[0m\u001b[1;32m     81\u001b[0m \u001b[0;34m\u001b[0m\u001b[0m\n\u001b[1;32m     82\u001b[0m     \u001b[0;32mdef\u001b[0m \u001b[0msubmit\u001b[0m\u001b[0;34m(\u001b[0m\u001b[0mself\u001b[0m\u001b[0;34m)\u001b[0m\u001b[0;34m:\u001b[0m\u001b[0;34m\u001b[0m\u001b[0;34m\u001b[0m\u001b[0m\n",
      "\u001b[0;32m/anaconda3/lib/python3.7/site-packages/selenium/webdriver/remote/webelement.py\u001b[0m in \u001b[0;36m_execute\u001b[0;34m(self, command, params)\u001b[0m\n\u001b[1;32m    631\u001b[0m             \u001b[0mparams\u001b[0m \u001b[0;34m=\u001b[0m \u001b[0;34m{\u001b[0m\u001b[0;34m}\u001b[0m\u001b[0;34m\u001b[0m\u001b[0;34m\u001b[0m\u001b[0m\n\u001b[1;32m    632\u001b[0m         \u001b[0mparams\u001b[0m\u001b[0;34m[\u001b[0m\u001b[0;34m'id'\u001b[0m\u001b[0;34m]\u001b[0m \u001b[0;34m=\u001b[0m \u001b[0mself\u001b[0m\u001b[0;34m.\u001b[0m\u001b[0m_id\u001b[0m\u001b[0;34m\u001b[0m\u001b[0;34m\u001b[0m\u001b[0m\n\u001b[0;32m--> 633\u001b[0;31m         \u001b[0;32mreturn\u001b[0m \u001b[0mself\u001b[0m\u001b[0;34m.\u001b[0m\u001b[0m_parent\u001b[0m\u001b[0;34m.\u001b[0m\u001b[0mexecute\u001b[0m\u001b[0;34m(\u001b[0m\u001b[0mcommand\u001b[0m\u001b[0;34m,\u001b[0m \u001b[0mparams\u001b[0m\u001b[0;34m)\u001b[0m\u001b[0;34m\u001b[0m\u001b[0;34m\u001b[0m\u001b[0m\n\u001b[0m\u001b[1;32m    634\u001b[0m \u001b[0;34m\u001b[0m\u001b[0m\n\u001b[1;32m    635\u001b[0m     \u001b[0;32mdef\u001b[0m \u001b[0mfind_element\u001b[0m\u001b[0;34m(\u001b[0m\u001b[0mself\u001b[0m\u001b[0;34m,\u001b[0m \u001b[0mby\u001b[0m\u001b[0;34m=\u001b[0m\u001b[0mBy\u001b[0m\u001b[0;34m.\u001b[0m\u001b[0mID\u001b[0m\u001b[0;34m,\u001b[0m \u001b[0mvalue\u001b[0m\u001b[0;34m=\u001b[0m\u001b[0;32mNone\u001b[0m\u001b[0;34m)\u001b[0m\u001b[0;34m:\u001b[0m\u001b[0;34m\u001b[0m\u001b[0;34m\u001b[0m\u001b[0m\n",
      "\u001b[0;32m/anaconda3/lib/python3.7/site-packages/selenium/webdriver/remote/webdriver.py\u001b[0m in \u001b[0;36mexecute\u001b[0;34m(self, driver_command, params)\u001b[0m\n\u001b[1;32m    319\u001b[0m         \u001b[0mresponse\u001b[0m \u001b[0;34m=\u001b[0m \u001b[0mself\u001b[0m\u001b[0;34m.\u001b[0m\u001b[0mcommand_executor\u001b[0m\u001b[0;34m.\u001b[0m\u001b[0mexecute\u001b[0m\u001b[0;34m(\u001b[0m\u001b[0mdriver_command\u001b[0m\u001b[0;34m,\u001b[0m \u001b[0mparams\u001b[0m\u001b[0;34m)\u001b[0m\u001b[0;34m\u001b[0m\u001b[0;34m\u001b[0m\u001b[0m\n\u001b[1;32m    320\u001b[0m         \u001b[0;32mif\u001b[0m \u001b[0mresponse\u001b[0m\u001b[0;34m:\u001b[0m\u001b[0;34m\u001b[0m\u001b[0;34m\u001b[0m\u001b[0m\n\u001b[0;32m--> 321\u001b[0;31m             \u001b[0mself\u001b[0m\u001b[0;34m.\u001b[0m\u001b[0merror_handler\u001b[0m\u001b[0;34m.\u001b[0m\u001b[0mcheck_response\u001b[0m\u001b[0;34m(\u001b[0m\u001b[0mresponse\u001b[0m\u001b[0;34m)\u001b[0m\u001b[0;34m\u001b[0m\u001b[0;34m\u001b[0m\u001b[0m\n\u001b[0m\u001b[1;32m    322\u001b[0m             response['value'] = self._unwrap_value(\n\u001b[1;32m    323\u001b[0m                 response.get('value', None))\n",
      "\u001b[0;32m/anaconda3/lib/python3.7/site-packages/selenium/webdriver/remote/errorhandler.py\u001b[0m in \u001b[0;36mcheck_response\u001b[0;34m(self, response)\u001b[0m\n\u001b[1;32m    240\u001b[0m                 \u001b[0malert_text\u001b[0m \u001b[0;34m=\u001b[0m \u001b[0mvalue\u001b[0m\u001b[0;34m[\u001b[0m\u001b[0;34m'alert'\u001b[0m\u001b[0;34m]\u001b[0m\u001b[0;34m.\u001b[0m\u001b[0mget\u001b[0m\u001b[0;34m(\u001b[0m\u001b[0;34m'text'\u001b[0m\u001b[0;34m)\u001b[0m\u001b[0;34m\u001b[0m\u001b[0;34m\u001b[0m\u001b[0m\n\u001b[1;32m    241\u001b[0m             \u001b[0;32mraise\u001b[0m \u001b[0mexception_class\u001b[0m\u001b[0;34m(\u001b[0m\u001b[0mmessage\u001b[0m\u001b[0;34m,\u001b[0m \u001b[0mscreen\u001b[0m\u001b[0;34m,\u001b[0m \u001b[0mstacktrace\u001b[0m\u001b[0;34m,\u001b[0m \u001b[0malert_text\u001b[0m\u001b[0;34m)\u001b[0m\u001b[0;34m\u001b[0m\u001b[0;34m\u001b[0m\u001b[0m\n\u001b[0;32m--> 242\u001b[0;31m         \u001b[0;32mraise\u001b[0m \u001b[0mexception_class\u001b[0m\u001b[0;34m(\u001b[0m\u001b[0mmessage\u001b[0m\u001b[0;34m,\u001b[0m \u001b[0mscreen\u001b[0m\u001b[0;34m,\u001b[0m \u001b[0mstacktrace\u001b[0m\u001b[0;34m)\u001b[0m\u001b[0;34m\u001b[0m\u001b[0;34m\u001b[0m\u001b[0m\n\u001b[0m\u001b[1;32m    243\u001b[0m \u001b[0;34m\u001b[0m\u001b[0m\n\u001b[1;32m    244\u001b[0m     \u001b[0;32mdef\u001b[0m \u001b[0m_value_or_default\u001b[0m\u001b[0;34m(\u001b[0m\u001b[0mself\u001b[0m\u001b[0;34m,\u001b[0m \u001b[0mobj\u001b[0m\u001b[0;34m,\u001b[0m \u001b[0mkey\u001b[0m\u001b[0;34m,\u001b[0m \u001b[0mdefault\u001b[0m\u001b[0;34m)\u001b[0m\u001b[0;34m:\u001b[0m\u001b[0;34m\u001b[0m\u001b[0;34m\u001b[0m\u001b[0m\n",
      "\u001b[0;31mElementClickInterceptedException\u001b[0m: Message: element click intercepted: Element <a aria-label=\"Next\" href=\"javascript:void(0);\" class=\"page-link\" tabindex=\"-1\">...</a> is not clickable at point (872, 624). Other element would receive the click: <li class=\"page-item disabled\">...</li>\n  (Session info: chrome=77.0.3865.120)\n"
     ]
    }
   ],
   "source": [
    "#scrape all search results pages to obtain urls for each of the 20 restaurants per page\n",
    "urls = []\n",
    "index = 1\n",
    "while index <=total_pages:\n",
    "    print(\"Scraping Page Number\" + str(index))\n",
    "    index = index+1\n",
    "    \n",
    "    restaurants = driver.find_elements_by_xpath('//div[@at-restaurant-card-title=\"true\"]/a')\n",
    "    for restaurant in restaurants:\n",
    "        url = restaurant.get_attribute('href')\n",
    "        urls.append(url)\n",
    "    \n",
    "    button = driver.find_element_by_xpath('//a[@aria-label=\"Next\"]')\n",
    "    button.click()\n",
    "    time.sleep(2)"
   ]
  },
  {
   "cell_type": "code",
   "execution_count": 89,
   "metadata": {},
   "outputs": [],
   "source": [
    "##export list of urls to csv\n",
    "import pandas as pd\n",
    "urldf = pd.DataFrame(urls, columns =['urls'])\n",
    "urldf.to_csv('urls.csv', index=False)"
   ]
  },
  {
   "cell_type": "code",
   "execution_count": 205,
   "metadata": {},
   "outputs": [],
   "source": [
    "#scrape 8 key variables from each restaurant page and output to pandas df\n",
    "\n",
    "driver = webdriver.Chrome()\n",
    "all_data = pd.DataFrame(columns=['name','rating', 'quality_perc','ontime_perc','accuracy_perc', 'num_ratings','price','category'])\n",
    "\n",
    "for url in urls:\n",
    "    driver.get(url)\n",
    "\n",
    "    time.sleep(5)\n",
    "\n",
    "    #get name variable\n",
    "    try:\n",
    "        name = driver.find_element_by_xpath('//h1[@itemprop=\"name\"]').text\n",
    "    except:\n",
    "        continue\n",
    "    \n",
    "    #get rating variable\n",
    "    try:\n",
    "        starpix=driver.find_element_by_xpath('//ghs-stars/div').get_attribute('style')\n",
    "        rating = float(re.search('-[0-9]+',starpix).group()[1:])/48+1\n",
    "    except:\n",
    "        continue\n",
    "\n",
    "    #get percentages variables\n",
    "    try:\n",
    "        quality_perc = driver.find_elements_by_xpath('//span[@class=\"u-stack-y-1 ratingsFacet-percent h6\"]')[0].text\n",
    "        ontime_perc = driver.find_elements_by_xpath('//span[@class=\"u-stack-y-1 ratingsFacet-percent h6\"]')[1].text\n",
    "        accuracy_perc = driver.find_elements_by_xpath('//span[@class=\"u-stack-y-1 ratingsFacet-percent h6\"]')[2].text\n",
    "    except:\n",
    "        continue\n",
    "\n",
    "    #get number of ratings\n",
    "    \n",
    "    try:\n",
    "        num_ratings = int(re.search('[0-9]+',driver.find_element_by_xpath('//span[@at-star-rating-text=\"true\"]').text).group()) \n",
    "    except:\n",
    "        continue\n",
    "\n",
    "    #get price level\n",
    "    try:\n",
    "        price = len(driver.find_element_by_xpath('//div[@class=\"priceRating-value\"]').text)\n",
    "    except:\n",
    "        continue\n",
    "\n",
    "    #get cuisines category\n",
    "    try:\n",
    "        cuisines = driver.find_elements_by_xpath('//span[@itemprop=\"servesCuisine\"]')\n",
    "        category = [re.search('[a-zA-Z]+',cuisine.text).group() for cuisine in cuisines]\n",
    "    except:\n",
    "        continue\n",
    "\n",
    "    #create dictionary containing all variables\n",
    "    data = {'name': name,\n",
    "            'rating': rating,\n",
    "            'quality_perc': quality_perc,\n",
    "            'ontime_perc': ontime_perc,\n",
    "            'accuracy_perc': accuracy_perc,\n",
    "            'num_ratings': num_ratings,\n",
    "            'price': price,\n",
    "            'category': [category]}\n",
    "\n",
    "    df = pd.DataFrame(data)\n",
    "    all_data=all_data.append(df,ignore_index=True)\n",
    "\n",
    "#export scraped data to csv    \n",
    "all_data.to_csv('rest_data2.csv', index=False)"
   ]
  },
  {
   "cell_type": "code",
   "execution_count": 208,
   "metadata": {},
   "outputs": [
    {
     "data": {
      "text/plain": [
       "(1251, 8)"
      ]
     },
     "execution_count": 208,
     "metadata": {},
     "output_type": "execute_result"
    }
   ],
   "source": [
    "#confirm shape of pandas df containing scraped data\n",
    "all_data.shape"
   ]
  },
  {
   "cell_type": "code",
   "execution_count": null,
   "metadata": {},
   "outputs": [],
   "source": []
  }
 ],
 "metadata": {
  "kernelspec": {
   "display_name": "Python 3",
   "language": "python",
   "name": "python3"
  },
  "language_info": {
   "codemirror_mode": {
    "name": "ipython",
    "version": 3
   },
   "file_extension": ".py",
   "mimetype": "text/x-python",
   "name": "python",
   "nbconvert_exporter": "python",
   "pygments_lexer": "ipython3",
   "version": "3.7.3"
  }
 },
 "nbformat": 4,
 "nbformat_minor": 2
}
